{
 "cells": [
  {
   "cell_type": "markdown",
   "metadata": {},
   "source": [
    "http://www.bdhammel.com/mle-map/"
   ]
  },
  {
   "cell_type": "markdown",
   "metadata": {},
   "source": [
    "# Maximum Likelihood Estimation"
   ]
  },
  {
   "cell_type": "markdown",
   "metadata": {},
   "source": [
    "we have P(w|X) = P(X|w) * P(w) / P(X)\n",
    "- P(X|w): likelihood\n",
    "- P(w): prior\n",
    "- P(X): probability of seeing the data\n",
    "- P(w|X): posterior\n",
    "\n",
    "If we’re doing Maximum Likelihood Estimation, we do not consider prior information (this is another way of saying “we have a uniform prior”) [K. Murphy 5.3]. If we make no assumptions about the initial weight of our apple. **We’ll say all sizes of apples are equally likely** (we’ll revisit this assumption in the MAP approximation). In this case, the above equation reduces to\n",
    "\n",
    "P(w|X) ~ P(X|w)"
   ]
  },
  {
   "cell_type": "markdown",
   "metadata": {},
   "source": [
    "Let’s say you have a barrel of apples that are all different sizes. You pick an apple at random, and you want to know its weight. Unfortunately, all you have is a broken scale.\n",
    "\n",
    "Std = 10"
   ]
  },
  {
   "cell_type": "markdown",
   "metadata": {},
   "source": [
    "The grid approximation is probably the dumbest (simplest) way to do this. Basically, we’ll systematically step through different weight guesses, and compare what it would look like if this hypothetical weight were to generate data. We’ll compare this hypothetical data to our real data and pick the one the matches the best (find max P(X|wi) for wi in grid)\n",
    "\n",
    "$$\n",
    "P(X|w) = \\prod_{i}^{N} p(x_i | w)\n",
    "$$"
   ]
  },
  {
   "cell_type": "markdown",
   "metadata": {},
   "source": [
    "$$\n",
    "% <![CDATA[\n",
    "\\begin{align}\n",
    "\\log P(X|w) &= \\log \\prod_{i}^{N} p(x_i | w) \\\\\n",
    "&= \\sum_{i}^{N} \\log p(d_i | w)\n",
    "\\end{align} %]]>\n",
    "$$\n",
    "\n",
    "or SUM( logpdf(X[i],w_guess,std) for i in range(X_length) )"
   ]
  },
  {
   "cell_type": "code",
   "execution_count": 1,
   "metadata": {},
   "outputs": [],
   "source": [
    "import pandas as pd\n",
    "import numpy as np\n",
    "np.random.seed(42)"
   ]
  },
  {
   "cell_type": "code",
   "execution_count": 2,
   "metadata": {},
   "outputs": [
    {
     "data": {
      "text/plain": [
       "<matplotlib.axes._subplots.AxesSubplot at 0x7fcc01b5ea10>"
      ]
     },
     "execution_count": 2,
     "metadata": {},
     "output_type": "execute_result"
    },
    {
     "data": {
      "image/png": "[encoded data removed]",
      "text/plain": [
       "<Figure size 432x288 with 1 Axes>"
      ]
     },
     "metadata": {
      "needs_background": "light"
     },
     "output_type": "display_data"
    }
   ],
   "source": [
    "DATA = np.random.normal(69.62,10,100)\n",
    "pd.Series(DATA).plot(kind='hist')"
   ]
  },
  {
   "cell_type": "code",
   "execution_count": 3,
   "metadata": {},
   "outputs": [],
   "source": [
    "# using a grid approximation\n",
    "from scipy.stats import norm # normal continuous random variable that can calculate pdf"
   ]
  },
  {
   "cell_type": "code",
   "execution_count": 4,
   "metadata": {},
   "outputs": [],
   "source": [
    "weight_grid = np.linspace(0, 100)"
   ]
  },
  {
   "cell_type": "code",
   "execution_count": 5,
   "metadata": {},
   "outputs": [],
   "source": [
    "likelihoods = [\n",
    "  np.sum(norm(weight_guess, 10).logpdf(DATA)) for weight_guess in weight_grid\n",
    "    # sum of log = multiplication of p(Xi|w_guess)\n",
    "]"
   ]
  },
  {
   "cell_type": "code",
   "execution_count": 6,
   "metadata": {},
   "outputs": [
    {
     "data": {
      "text/plain": [
       "-363.3034679212669"
      ]
     },
     "execution_count": 6,
     "metadata": {},
     "output_type": "execute_result"
    }
   ],
   "source": [
    "np.max(likelihoods) # log likelihood max"
   ]
  },
  {
   "cell_type": "code",
   "execution_count": 7,
   "metadata": {},
   "outputs": [],
   "source": [
    "weight = weight_grid[np.argmax(likelihoods)]"
   ]
  },
  {
   "cell_type": "code",
   "execution_count": 9,
   "metadata": {},
   "outputs": [
    {
     "data": {
      "text/plain": [
       "69.38775510204081"
      ]
     },
     "execution_count": 9,
     "metadata": {},
     "output_type": "execute_result"
    }
   ],
   "source": [
    "weight"
   ]
  },
  {
   "cell_type": "markdown",
   "metadata": {},
   "source": [
    "# Maximum A Posterior (multiple parameters)"
   ]
  },
  {
   "cell_type": "markdown",
   "metadata": {},
   "source": [
    "If we know something about the probability of Y (prior), we can incorporate it into the equation in the form of the prior P(Y)\n",
    "\n",
    "In This case, Bayes’ laws has it’s original form.\n",
    "$P(Y|X) \\propto P(X|Y)P(Y)$"
   ]
  },
  {
   "cell_type": "markdown",
   "metadata": {},
   "source": [
    "In the above examples we made the assumption that all apple weights were equally likely"
   ]
  },
  {
   "cell_type": "markdown",
   "metadata": {},
   "source": [
    "In fact, a quick internet search will tell us that the average apple is between 70-100g. So, we can use this information to our advantage, and we encode it into our problem in the form of the prior.\n",
    "\n",
    "Also, we don’t know what the standard deviation is, so we add another parameter $\\sigma$"
   ]
  },
  {
   "cell_type": "markdown",
   "metadata": {},
   "source": [
    "$$\n",
    "P(w, \\sigma|X) \\propto P(X|w, \\sigma)P(w, \\sigma)\n",
    "$$\n",
    "\n",
    "By recognizing that weight is independent of scale error $P(w, \\sigma) = P(w)P(\\sigma)$\n"
   ]
  },
  {
   "cell_type": "markdown",
   "metadata": {},
   "source": [
    "=> $P(w, \\sigma|X) \\propto P(X|w, \\sigma)P(w)P(\\sigma)$"
   ]
  },
  {
   "cell_type": "markdown",
   "metadata": {},
   "source": [
    "See link for the gridsearch procedure to maximize posterior"
   ]
  }
 ],
 "metadata": {
  "kernelspec": {
   "display_name": "Python 3",
   "language": "python",
   "name": "python3"
  },
  "language_info": {
   "codemirror_mode": {
    "name": "ipython",
    "version": 3
   },
   "file_extension": ".py",
   "mimetype": "text/x-python",
   "name": "python",
   "nbconvert_exporter": "python",
   "pygments_lexer": "ipython3",
   "version": "3.7.4"
  }
 },
 "nbformat": 4,
 "nbformat_minor": 4
}
