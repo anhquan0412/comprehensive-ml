{
 "cells": [
  {
   "cell_type": "markdown",
   "metadata": {},
   "source": [
    "# Principal Component Analysis"
   ]
  },
  {
   "cell_type": "markdown",
   "metadata": {},
   "source": [
    "- The idea is to **come up with PC (principal component) direction** that **maximize variance** (or **minimize sum of squared distances between the original point and PC direction**, aka information loss) from old data point (higher dimension) to its new transformed value (lower dimension)\n",
    "\n",
    "- **What does it mean by “maximize variance”?** \n",
    "When you project all data into this PC direction, the resulting observations would have the largest possible variance"
   ]
  },
  {
   "cell_type": "markdown",
   "metadata": {},
   "source": [
    "![](images/pca_1.png)"
   ]
  },
  {
   "cell_type": "markdown",
   "metadata": {},
   "source": [
    "    • More variance of data along a PC direction = higher that PC is ranked\n",
    "    • The next-highest PC should be uncorrelated with the highest PC (in 2 dimensions, the 2nd PC is perpendicular to 1st PC)"
   ]
  },
  {
   "cell_type": "markdown",
   "metadata": {},
   "source": [
    "\n",
    "After reduction, the new feature Z should be a linear combination of old features:\n"
   ]
  },
  {
   "attachments": {},
   "cell_type": "markdown",
   "metadata": {},
   "source": [
    "![](images/pca_2.png)"
   ]
  },
  {
   "cell_type": "markdown",
   "metadata": {},
   "source": [
    "and\n",
    "\n",
    "![](images/pca_3.png)"
   ]
  },
  {
   "cell_type": "markdown",
   "metadata": {},
   "source": [
    "- Note: For each feature Z: the higher the constant phi(jm), the more spread out the data along the feature X(j), aka the more important that feature X(j) is to capture the data"
   ]
  },
  {
   "cell_type": "markdown",
   "metadata": {},
   "source": [
    "# Advantages of PCA: "
   ]
  },
  {
   "cell_type": "markdown",
   "metadata": {},
   "source": [
    "    • Good when data have clear general patterns that could be simplified into smaller feature subsets (e.g. for human faces: eyes, mouths …)\n",
    "    • Visualize high dimensional data\n",
    "    • Reduce noise by ignoring PCs that doesn’t capture variance of data well enough\n",
    "        ◦ Especially useful in high dimensional data situation where # of features >= # of observations\n",
    "    • Fewer inputs for others ML models"
   ]
  }
 ],
 "metadata": {
  "kernelspec": {
   "display_name": "Python 3",
   "language": "python",
   "name": "python3"
  },
  "language_info": {
   "codemirror_mode": {
    "name": "ipython",
    "version": 3
   },
   "file_extension": ".py",
   "mimetype": "text/x-python",
   "name": "python",
   "nbconvert_exporter": "python",
   "pygments_lexer": "ipython3",
   "version": "3.7.4"
  }
 },
 "nbformat": 4,
 "nbformat_minor": 4
}
