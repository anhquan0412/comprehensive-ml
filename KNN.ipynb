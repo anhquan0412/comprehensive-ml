{
 "cells": [
  {
   "cell_type": "markdown",
   "metadata": {},
   "source": [
    "# K nearest neighbor\n",
    "\n",
    "The idea is to assign each observation to the most likely class, given its predictor values/features\n",
    "\n",
    "Or: for feature x0, we should pick a class J so that probability Pr(Y=j|x=x0) is maximum (<b>also known as Bayes classifier</b>)\n",
    "\n",
    "However, for real data, we don't know the condition distribution of true label Y given feature X), so we have to estimate it.\n",
    "\n",
    "KNN: given K and data point x0, KNN classifier identifies K points in training data that are closest to x0\n",
    "- for regression, it will take the mean of these K points' dependent variable\n",
    "- for classification, calculate class distribution of these K points, and pick class with highest probability"
   ]
  },
  {
   "cell_type": "markdown",
   "metadata": {},
   "source": [
    "# Setting K\n",
    "- Small K means the model will be more flexible (only small datapoints to determine the class) => can lead to high variance and overfitting \n",
    "    - Note that when k = 1 in KNN, that means in training (TRAINING ONLY), a data point is always going to pick itself as its neighbor (since KNN takes the existing data (which is the train set) to make predictions) => train prediction is always correct  => train error = 0\n",
    "- Big K means the model will be less flexible (need more datapoints to determine the class) => can lead to high bias"
   ]
  },
  {
   "cell_type": "markdown",
   "metadata": {},
   "source": [
    "# Steps to train a KNN model"
   ]
  },
  {
   "cell_type": "markdown",
   "metadata": {},
   "source": [
    "Preparation: save the dataset features X. No need to save Y label"
   ]
  },
  {
   "cell_type": "markdown",
   "metadata": {},
   "source": [
    "### 1: Calculate two matrices (each is a 2D arrays (size of X_test, k)): \n",
    "- Sorted Distance matrix: for each data point of some test set X_test, calculate n euclidian distances to n data point in X, and save k closest distances.\n",
    "    - This distance matrix will be used as weight (if we decide to use them) to adjust class probability from group of k. We will INVERSE this matrix (so smaller distance = closer = should have higher weight)\n",
    "    \n",
    "- Sorted Index matrix: for each data point of some test set X_test, save indices of k data points in X that are closest to it, sorted by distance based on Sorted Distance Array "
   ]
  },
  {
   "cell_type": "markdown",
   "metadata": {},
   "source": [
    "### 2: Make a prediction"
   ]
  },
  {
   "cell_type": "markdown",
   "metadata": {},
   "source": [
    "- For each row of Sorted Index matrix (for each data point of test set), get A LIST of y labels (with y[idx]) associating with that data point and calculate class probability/ weighted class probability (using inverse distance)\n",
    "\n",
    "- Sorted these probability and return them, along with the sorted label based on these probability"
   ]
  },
  {
   "cell_type": "markdown",
   "metadata": {},
   "source": [
    "# Pros and Cons"
   ]
  },
  {
   "cell_type": "markdown",
   "metadata": {},
   "source": [
    "Pros:\n",
    "- No assumption about data or the model\n",
    "- Suitable for non-linear relationship\n",
    "\n",
    "Cons:\n",
    "- No interpretation (unlike linear regression)\n",
    "- Might not be good for strong non-linear data with noisy features (features that might just be garbage/noise)\n",
    "- Not good when # of features is increased (relatively to dataset size) due to curse of dimensionality:\n",
    "    - K observations near x0 (when p is small) <b>MIGHT</b> be far away from x0 when p increases (p-dimensional space) (think about perpestive change from 2D to 3D)"
   ]
  }
 ],
 "metadata": {
  "kernelspec": {
   "display_name": "Python 3",
   "language": "python",
   "name": "python3"
  },
  "language_info": {
   "codemirror_mode": {
    "name": "ipython",
    "version": 3
   },
   "file_extension": ".py",
   "mimetype": "text/x-python",
   "name": "python",
   "nbconvert_exporter": "python",
   "pygments_lexer": "ipython3",
   "version": "3.7.5"
  }
 },
 "nbformat": 4,
 "nbformat_minor": 2
}
